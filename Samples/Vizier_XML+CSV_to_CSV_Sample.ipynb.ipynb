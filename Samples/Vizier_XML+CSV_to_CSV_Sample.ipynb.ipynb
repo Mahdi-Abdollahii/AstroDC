{
  "nbformat": 4,
  "nbformat_minor": 0,
  "metadata": {
    "colab": {
      "provenance": [],
      "collapsed_sections": []
    },
    "kernelspec": {
      "name": "python3",
      "display_name": "Python 3"
    },
    "language_info": {
      "name": "python"
    }
  },
  "cells": [
    {
      "cell_type": "markdown",
      "source": [
        "\n",
        "Uncomment and run the following cell if you are on Google Colab"
      ],
      "metadata": {
        "id": "6qf8vu4OYYNX"
      }
    },
    {
      "cell_type": "code",
      "execution_count": null,
      "metadata": {
        "id": "lmi3Y8L95Q0_"
      },
      "outputs": [],
      "source": [
        "#!git clone https://github.com/Mahdi-Abdollahii/AstroDC.git"
      ]
    },
    {
      "cell_type": "code",
      "source": [
        "#pip install git+https://github.com/Mahdi-Abdollahii/AstroDC.git"
      ],
      "metadata": {
        "id": "cSMIBqaG8kS0"
      },
      "execution_count": null,
      "outputs": []
    },
    {
      "cell_type": "markdown",
      "source": [
        "Importing needed libraries"
      ],
      "metadata": {
        "id": "dX1tKwk8gnEq"
      }
    },
    {
      "cell_type": "code",
      "source": [
        "from AstroDC import AstroDC\n",
        "import pandas as pd\n",
        "import csv\n",
        "import matplotlib.pylab as plt "
      ],
      "metadata": {
        "id": "xdSXXUam7wtp"
      },
      "execution_count": null,
      "outputs": []
    },
    {
      "cell_type": "markdown",
      "source": [
        "Using AstroDC to change the type of data from XML+CSV to CSV"
      ],
      "metadata": {
        "id": "DqA80ES4g3qx"
      }
    },
    {
      "cell_type": "code",
      "source": [
        "AstroDC.Vizier_XMLCSV_to_CSV(\"/content/AstroDC/Data/vizier_votable_Ukirt_NGC6822.tsv\",\"UKIRT_file\")"
      ],
      "metadata": {
        "id": "RhnY9vguaGKl",
        "colab": {
          "base_uri": "https://localhost:8080/"
        },
        "outputId": "c5ef8f9d-279b-4dc8-a43b-a1902e605a60"
      },
      "execution_count": null,
      "outputs": [
        {
          "output_type": "stream",
          "name": "stdout",
          "text": [
            "UKIRT_file.csv file of this data saved in local directory.\n"
          ]
        }
      ]
    },
    {
      "cell_type": "code",
      "source": [
        "df_ukirt= pd.read_csv(\"UKIRT_file.csv\")\n",
        "df_ukirt"
      ],
      "metadata": {
        "id": "JyEnfAZgBj6f",
        "colab": {
          "base_uri": "https://localhost:8080/",
          "height": 488
        },
        "outputId": "1aca329a-7d6e-486e-b049-ec52b0ab1391"
      },
      "execution_count": null,
      "outputs": [
        {
          "output_type": "execute_result",
          "data": {
            "text/plain": [
              "       _RAJ2000(deg)  _DEJ2000(deg)  RAJ2000(deg)  DEJ2000(deg)  \\\n",
              "0         295.899750     -14.510397    295.899750    -14.510397   \n",
              "1         295.899750     -14.610637    295.899750    -14.610637   \n",
              "2         295.899750     -14.784898    295.899750    -14.784898   \n",
              "3         295.899750     -15.129128    295.899750    -15.129128   \n",
              "4         295.899780     -14.623633    295.899780    -14.623633   \n",
              "...              ...            ...           ...           ...   \n",
              "25843     296.568726     -14.955183    296.568726    -14.955183   \n",
              "25844     296.568756     -14.650425    296.568756    -14.650425   \n",
              "25845     296.568848     -14.714405    296.568848    -14.714405   \n",
              "25846     296.568848     -14.725469    296.568848    -14.725469   \n",
              "25847     296.568909     -14.610647    296.568909    -14.610647   \n",
              "\n",
              "       JmagUKIRT(mag)  e_JmagUKIRT(mag)  HmagUKIRT(mag)  e_HmagUKIRT(mag)  \\\n",
              "0              18.873             0.111          18.584             0.101   \n",
              "1              18.853             0.110          18.453             0.091   \n",
              "2              16.839             0.024          16.196             0.017   \n",
              "3              17.198             0.026          16.619             0.025   \n",
              "4              17.481             0.035          17.145             0.030   \n",
              "...               ...               ...             ...               ...   \n",
              "25843          15.879             0.010          15.518             0.009   \n",
              "25844          14.848             0.005          14.194             0.004   \n",
              "25845          18.644             0.091          18.012             0.081   \n",
              "25846          16.881             0.020          16.481             0.021   \n",
              "25847          18.652             0.092          18.181             0.093   \n",
              "\n",
              "       KmagUKIRT(mag)  e_KmagUKIRT(mag)  \n",
              "0              18.196             0.100  \n",
              "1              18.253             0.106  \n",
              "2              16.024             0.018  \n",
              "3              16.384             0.026  \n",
              "4              17.054             0.038  \n",
              "...               ...               ...  \n",
              "25843          15.475             0.012  \n",
              "25844          13.962             0.005  \n",
              "25845          17.687             0.072  \n",
              "25846          16.413             0.024  \n",
              "25847          17.787             0.078  \n",
              "\n",
              "[25848 rows x 10 columns]"
            ],
            "text/html": [
              "\n",
              "  <div id=\"df-ecfa5c4e-e129-41c2-a2ee-667f78d9bbd0\">\n",
              "    <div class=\"colab-df-container\">\n",
              "      <div>\n",
              "<style scoped>\n",
              "    .dataframe tbody tr th:only-of-type {\n",
              "        vertical-align: middle;\n",
              "    }\n",
              "\n",
              "    .dataframe tbody tr th {\n",
              "        vertical-align: top;\n",
              "    }\n",
              "\n",
              "    .dataframe thead th {\n",
              "        text-align: right;\n",
              "    }\n",
              "</style>\n",
              "<table border=\"1\" class=\"dataframe\">\n",
              "  <thead>\n",
              "    <tr style=\"text-align: right;\">\n",
              "      <th></th>\n",
              "      <th>_RAJ2000(deg)</th>\n",
              "      <th>_DEJ2000(deg)</th>\n",
              "      <th>RAJ2000(deg)</th>\n",
              "      <th>DEJ2000(deg)</th>\n",
              "      <th>JmagUKIRT(mag)</th>\n",
              "      <th>e_JmagUKIRT(mag)</th>\n",
              "      <th>HmagUKIRT(mag)</th>\n",
              "      <th>e_HmagUKIRT(mag)</th>\n",
              "      <th>KmagUKIRT(mag)</th>\n",
              "      <th>e_KmagUKIRT(mag)</th>\n",
              "    </tr>\n",
              "  </thead>\n",
              "  <tbody>\n",
              "    <tr>\n",
              "      <th>0</th>\n",
              "      <td>295.899750</td>\n",
              "      <td>-14.510397</td>\n",
              "      <td>295.899750</td>\n",
              "      <td>-14.510397</td>\n",
              "      <td>18.873</td>\n",
              "      <td>0.111</td>\n",
              "      <td>18.584</td>\n",
              "      <td>0.101</td>\n",
              "      <td>18.196</td>\n",
              "      <td>0.100</td>\n",
              "    </tr>\n",
              "    <tr>\n",
              "      <th>1</th>\n",
              "      <td>295.899750</td>\n",
              "      <td>-14.610637</td>\n",
              "      <td>295.899750</td>\n",
              "      <td>-14.610637</td>\n",
              "      <td>18.853</td>\n",
              "      <td>0.110</td>\n",
              "      <td>18.453</td>\n",
              "      <td>0.091</td>\n",
              "      <td>18.253</td>\n",
              "      <td>0.106</td>\n",
              "    </tr>\n",
              "    <tr>\n",
              "      <th>2</th>\n",
              "      <td>295.899750</td>\n",
              "      <td>-14.784898</td>\n",
              "      <td>295.899750</td>\n",
              "      <td>-14.784898</td>\n",
              "      <td>16.839</td>\n",
              "      <td>0.024</td>\n",
              "      <td>16.196</td>\n",
              "      <td>0.017</td>\n",
              "      <td>16.024</td>\n",
              "      <td>0.018</td>\n",
              "    </tr>\n",
              "    <tr>\n",
              "      <th>3</th>\n",
              "      <td>295.899750</td>\n",
              "      <td>-15.129128</td>\n",
              "      <td>295.899750</td>\n",
              "      <td>-15.129128</td>\n",
              "      <td>17.198</td>\n",
              "      <td>0.026</td>\n",
              "      <td>16.619</td>\n",
              "      <td>0.025</td>\n",
              "      <td>16.384</td>\n",
              "      <td>0.026</td>\n",
              "    </tr>\n",
              "    <tr>\n",
              "      <th>4</th>\n",
              "      <td>295.899780</td>\n",
              "      <td>-14.623633</td>\n",
              "      <td>295.899780</td>\n",
              "      <td>-14.623633</td>\n",
              "      <td>17.481</td>\n",
              "      <td>0.035</td>\n",
              "      <td>17.145</td>\n",
              "      <td>0.030</td>\n",
              "      <td>17.054</td>\n",
              "      <td>0.038</td>\n",
              "    </tr>\n",
              "    <tr>\n",
              "      <th>...</th>\n",
              "      <td>...</td>\n",
              "      <td>...</td>\n",
              "      <td>...</td>\n",
              "      <td>...</td>\n",
              "      <td>...</td>\n",
              "      <td>...</td>\n",
              "      <td>...</td>\n",
              "      <td>...</td>\n",
              "      <td>...</td>\n",
              "      <td>...</td>\n",
              "    </tr>\n",
              "    <tr>\n",
              "      <th>25843</th>\n",
              "      <td>296.568726</td>\n",
              "      <td>-14.955183</td>\n",
              "      <td>296.568726</td>\n",
              "      <td>-14.955183</td>\n",
              "      <td>15.879</td>\n",
              "      <td>0.010</td>\n",
              "      <td>15.518</td>\n",
              "      <td>0.009</td>\n",
              "      <td>15.475</td>\n",
              "      <td>0.012</td>\n",
              "    </tr>\n",
              "    <tr>\n",
              "      <th>25844</th>\n",
              "      <td>296.568756</td>\n",
              "      <td>-14.650425</td>\n",
              "      <td>296.568756</td>\n",
              "      <td>-14.650425</td>\n",
              "      <td>14.848</td>\n",
              "      <td>0.005</td>\n",
              "      <td>14.194</td>\n",
              "      <td>0.004</td>\n",
              "      <td>13.962</td>\n",
              "      <td>0.005</td>\n",
              "    </tr>\n",
              "    <tr>\n",
              "      <th>25845</th>\n",
              "      <td>296.568848</td>\n",
              "      <td>-14.714405</td>\n",
              "      <td>296.568848</td>\n",
              "      <td>-14.714405</td>\n",
              "      <td>18.644</td>\n",
              "      <td>0.091</td>\n",
              "      <td>18.012</td>\n",
              "      <td>0.081</td>\n",
              "      <td>17.687</td>\n",
              "      <td>0.072</td>\n",
              "    </tr>\n",
              "    <tr>\n",
              "      <th>25846</th>\n",
              "      <td>296.568848</td>\n",
              "      <td>-14.725469</td>\n",
              "      <td>296.568848</td>\n",
              "      <td>-14.725469</td>\n",
              "      <td>16.881</td>\n",
              "      <td>0.020</td>\n",
              "      <td>16.481</td>\n",
              "      <td>0.021</td>\n",
              "      <td>16.413</td>\n",
              "      <td>0.024</td>\n",
              "    </tr>\n",
              "    <tr>\n",
              "      <th>25847</th>\n",
              "      <td>296.568909</td>\n",
              "      <td>-14.610647</td>\n",
              "      <td>296.568909</td>\n",
              "      <td>-14.610647</td>\n",
              "      <td>18.652</td>\n",
              "      <td>0.092</td>\n",
              "      <td>18.181</td>\n",
              "      <td>0.093</td>\n",
              "      <td>17.787</td>\n",
              "      <td>0.078</td>\n",
              "    </tr>\n",
              "  </tbody>\n",
              "</table>\n",
              "<p>25848 rows × 10 columns</p>\n",
              "</div>\n",
              "      <button class=\"colab-df-convert\" onclick=\"convertToInteractive('df-ecfa5c4e-e129-41c2-a2ee-667f78d9bbd0')\"\n",
              "              title=\"Convert this dataframe to an interactive table.\"\n",
              "              style=\"display:none;\">\n",
              "        \n",
              "  <svg xmlns=\"http://www.w3.org/2000/svg\" height=\"24px\"viewBox=\"0 0 24 24\"\n",
              "       width=\"24px\">\n",
              "    <path d=\"M0 0h24v24H0V0z\" fill=\"none\"/>\n",
              "    <path d=\"M18.56 5.44l.94 2.06.94-2.06 2.06-.94-2.06-.94-.94-2.06-.94 2.06-2.06.94zm-11 1L8.5 8.5l.94-2.06 2.06-.94-2.06-.94L8.5 2.5l-.94 2.06-2.06.94zm10 10l.94 2.06.94-2.06 2.06-.94-2.06-.94-.94-2.06-.94 2.06-2.06.94z\"/><path d=\"M17.41 7.96l-1.37-1.37c-.4-.4-.92-.59-1.43-.59-.52 0-1.04.2-1.43.59L10.3 9.45l-7.72 7.72c-.78.78-.78 2.05 0 2.83L4 21.41c.39.39.9.59 1.41.59.51 0 1.02-.2 1.41-.59l7.78-7.78 2.81-2.81c.8-.78.8-2.07 0-2.86zM5.41 20L4 18.59l7.72-7.72 1.47 1.35L5.41 20z\"/>\n",
              "  </svg>\n",
              "      </button>\n",
              "      \n",
              "  <style>\n",
              "    .colab-df-container {\n",
              "      display:flex;\n",
              "      flex-wrap:wrap;\n",
              "      gap: 12px;\n",
              "    }\n",
              "\n",
              "    .colab-df-convert {\n",
              "      background-color: #E8F0FE;\n",
              "      border: none;\n",
              "      border-radius: 50%;\n",
              "      cursor: pointer;\n",
              "      display: none;\n",
              "      fill: #1967D2;\n",
              "      height: 32px;\n",
              "      padding: 0 0 0 0;\n",
              "      width: 32px;\n",
              "    }\n",
              "\n",
              "    .colab-df-convert:hover {\n",
              "      background-color: #E2EBFA;\n",
              "      box-shadow: 0px 1px 2px rgba(60, 64, 67, 0.3), 0px 1px 3px 1px rgba(60, 64, 67, 0.15);\n",
              "      fill: #174EA6;\n",
              "    }\n",
              "\n",
              "    [theme=dark] .colab-df-convert {\n",
              "      background-color: #3B4455;\n",
              "      fill: #D2E3FC;\n",
              "    }\n",
              "\n",
              "    [theme=dark] .colab-df-convert:hover {\n",
              "      background-color: #434B5C;\n",
              "      box-shadow: 0px 1px 3px 1px rgba(0, 0, 0, 0.15);\n",
              "      filter: drop-shadow(0px 1px 2px rgba(0, 0, 0, 0.3));\n",
              "      fill: #FFFFFF;\n",
              "    }\n",
              "  </style>\n",
              "\n",
              "      <script>\n",
              "        const buttonEl =\n",
              "          document.querySelector('#df-ecfa5c4e-e129-41c2-a2ee-667f78d9bbd0 button.colab-df-convert');\n",
              "        buttonEl.style.display =\n",
              "          google.colab.kernel.accessAllowed ? 'block' : 'none';\n",
              "\n",
              "        async function convertToInteractive(key) {\n",
              "          const element = document.querySelector('#df-ecfa5c4e-e129-41c2-a2ee-667f78d9bbd0');\n",
              "          const dataTable =\n",
              "            await google.colab.kernel.invokeFunction('convertToInteractive',\n",
              "                                                     [key], {});\n",
              "          if (!dataTable) return;\n",
              "\n",
              "          const docLinkHtml = 'Like what you see? Visit the ' +\n",
              "            '<a target=\"_blank\" href=https://colab.research.google.com/notebooks/data_table.ipynb>data table notebook</a>'\n",
              "            + ' to learn more about interactive tables.';\n",
              "          element.innerHTML = '';\n",
              "          dataTable['output_type'] = 'display_data';\n",
              "          await google.colab.output.renderOutput(dataTable, element);\n",
              "          const docLink = document.createElement('div');\n",
              "          docLink.innerHTML = docLinkHtml;\n",
              "          element.appendChild(docLink);\n",
              "        }\n",
              "      </script>\n",
              "    </div>\n",
              "  </div>\n",
              "  "
            ]
          },
          "metadata": {},
          "execution_count": 6
        }
      ]
    },
    {
      "cell_type": "markdown",
      "source": [
        "Plotting CMD of this data"
      ],
      "metadata": {
        "id": "PZlwF9BEqSGu"
      }
    },
    {
      "cell_type": "code",
      "source": [
        "plt.plot(df_ukirt['JmagUKIRT(mag)'] - df_ukirt['HmagUKIRT(mag)'], df_ukirt['HmagUKIRT(mag)'],'b.' , markersize = 2)\n",
        "plt.title(\"CMd , Fig.1 \" ,fontsize = 12 )\n",
        "plt.ylabel('H (mag)' , fontsize = 12 )\n",
        "plt.xlabel('J-H (mag)', fontsize = 12 )\n",
        "plt.gca().invert_yaxis()\n",
        "plt.show()"
      ],
      "metadata": {
        "colab": {
          "base_uri": "https://localhost:8080/",
          "height": 298
        },
        "id": "bayStPCddpv0",
        "outputId": "d4ec99d8-5bb1-4e41-bf73-1bc025943e59"
      },
      "execution_count": null,
      "outputs": [
        {
          "output_type": "display_data",
          "data": {
            "text/plain": [
              "<Figure size 432x288 with 1 Axes>"
            ],
            "image/png": "[encoded data removed]"
          },
          "metadata": {
            "needs_background": "light"
          }
        }
      ]
    },
    {
      "cell_type": "code",
      "source": [],
      "metadata": {
        "id": "iOJ-3Xc2eFmH"
      },
      "execution_count": null,
      "outputs": []
    }
  ]
}